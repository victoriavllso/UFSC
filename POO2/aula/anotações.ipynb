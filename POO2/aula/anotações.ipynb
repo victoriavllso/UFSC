{
 "cells": [
  {
   "cell_type": "markdown",
   "metadata": {},
   "source": [
    "#self._pessoa__idade (classe idade e atributo privado idade)\n",
    "#get_modelo(self)\n",
    "#set_modelo(self,value)\n"
   ]
  }
 ],
 "metadata": {
  "language_info": {
   "name": "python"
  },
  "orig_nbformat": 4
 },
 "nbformat": 4,
 "nbformat_minor": 2
}
