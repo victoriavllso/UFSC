{
 "cells": [
  {
   "cell_type": "markdown",
   "metadata": {},
   "source": [
    "# Lista 2 POO II\n"
   ]
  },
  {
   "cell_type": "markdown",
   "metadata": {},
   "source": [
    "exercicio 1:"
   ]
  },
  {
   "cell_type": "code",
   "execution_count": 3,
   "metadata": {},
   "outputs": [
    {
     "name": "stdout",
     "output_type": "stream",
     "text": [
      "[1, 2, 3]\n"
     ]
    }
   ],
   "source": [
    "class Vetor():\n",
    "    def __init__(self, vetor:[]*5):\n",
    "        self.vetor = vetor\n",
    "    \n",
    "    def imprime(self):\n",
    "        print(self.vetor)\n",
    "\n",
    "entrada = input(\"Digite os valores de entrada do vetor: \")\n",
    "\n",
    "vetor = list(map(int,entrada.split()))\n",
    "\n",
    "vet = Vetor(vetor)\n",
    "vet.imprime()\n",
    "\n"
   ]
  },
  {
   "cell_type": "markdown",
   "metadata": {},
   "source": [
    "exercicio 2:"
   ]
  },
  {
   "cell_type": "code",
   "execution_count": 4,
   "metadata": {},
   "outputs": [
    {
     "name": "stdout",
     "output_type": "stream",
     "text": [
      "A ordem inversa é [6, 5, 1]\n"
     ]
    }
   ],
   "source": [
    "class Vetor():\n",
    "    def __init__(self, vetor:[]*10):\n",
    "        self.vetor = vetor\n",
    "    \n",
    "    def inverte(self):\n",
    "        return self.vetor.reverse()\n",
    "    \n",
    "    def __str__(self): ##para não imprimir o endereço de memória\n",
    "        return str(self.vetor)\n",
    "\n",
    "\n",
    "entrada = input(\"Digite os valores de entrada do vetor: \")\n",
    "\n",
    "vetor = list(map(int,entrada.split()))\n",
    "\n",
    "vet = Vetor(vetor)\n",
    "\n",
    "vet.inverte()\n",
    "\n",
    "print(f\"A ordem inversa é {vet}\")"
   ]
  },
  {
   "cell_type": "markdown",
   "metadata": {},
   "source": [
    "exercício 3:"
   ]
  },
  {
   "cell_type": "code",
   "execution_count": 5,
   "metadata": {},
   "outputs": [
    {
     "name": "stdout",
     "output_type": "stream",
     "text": [
      "As notas são: 10, 9, 6, 7\n",
      "A média é: 8.0\n"
     ]
    }
   ],
   "source": [
    "class Notas():\n",
    "    def __init__(self,notas:[]):\n",
    "        self.__notas = notas\n",
    "\n",
    "    def media(self):\n",
    "        m = sum(self.__notas)/len(self.__notas)\n",
    "\n",
    "        return m\n",
    "    def exibe_notas(self):\n",
    "        print(f\"As notas são: {', '.join(map(str, self.__notas))}\")\n",
    "    \n",
    "\n",
    "notas = Notas([10,9,6,7])\n",
    "\n",
    "me = notas.media()\n",
    "notas.exibe_notas()\n",
    "\n",
    "print(f\"A média é: {me}\")\n"
   ]
  },
  {
   "cell_type": "markdown",
   "metadata": {},
   "source": [
    "exercício 4:"
   ]
  },
  {
   "cell_type": "code",
   "execution_count": 6,
   "metadata": {},
   "outputs": [
    {
     "name": "stdout",
     "output_type": "stream",
     "text": [
      "A quantidade de consoantes é: 0\n"
     ]
    }
   ],
   "source": [
    "class Quantidade():\n",
    "\n",
    "    def __init__(self,quantidade:[]*10):\n",
    "        self.__quantidade = quantidade\n",
    "        self.__consoantes = ['b', 'c', 'd', 'f', 'g', 'h', 'j', 'k', 'l', 'm', 'n', 'p', 'q', 'r', 's', 't', 'v', 'w', 'x', 'y', 'z']\n",
    "\n",
    "\n",
    "    def contagem(self):\n",
    "        c = 0\n",
    "\n",
    "        for i in range((len(self.__quantidade))):\n",
    "            for j in range(len(self.__consoantes)):\n",
    "                if self.__quantidade[i] == self.__consoantes[j]:\n",
    "                    c +=1\n",
    "        print(f\"A quantidade de consoantes é: {c}\")\n",
    "\n",
    "entrada = input(\"Digite os caracteres separados por espaço: \")\n",
    "\n",
    "a = list(map(str, entrada.split()))\n",
    "\n",
    "b = Quantidade(a)\n",
    "b.contagem()\n",
    "\n",
    "\n"
   ]
  },
  {
   "cell_type": "markdown",
   "metadata": {},
   "source": [
    "exercicio 5:"
   ]
  },
  {
   "cell_type": "code",
   "execution_count": 7,
   "metadata": {},
   "outputs": [
    {
     "name": "stdout",
     "output_type": "stream",
     "text": [
      "Vetor original: [4, 5, 6]\n",
      "Vetor par: [4, 6]\n",
      "Vetor impar: [5]\n"
     ]
    }
   ],
   "source": [
    "class Quantidade():\n",
    "\n",
    "    def __init__(self,quantidade:[]*20):\n",
    "        self.__quantidade = quantidade\n",
    "       \n",
    "    def contagem(self):\n",
    "        vetor_par = []\n",
    "        vetor_impar = []\n",
    "        for i in range((len(self.__quantidade))):\n",
    "            if self.__quantidade[i]%2==0:\n",
    "                vetor_par.append(self.__quantidade[i])\n",
    "            else:\n",
    "                vetor_impar.append(self.__quantidade[i])\n",
    "\n",
    "        print(f\"Vetor original: {self.__quantidade}\")\n",
    "        print(f\"Vetor par: {vetor_par}\")\n",
    "        print(f\"Vetor impar: {vetor_impar}\")\n",
    "\n",
    "entrada = input(\"Digite os caracteres separados por espaço: \")\n",
    "\n",
    "a = list(map(int, entrada.split()))\n",
    "\n",
    "b = Quantidade(a)\n",
    "b.contagem()\n",
    "\n",
    "\n"
   ]
  },
  {
   "cell_type": "markdown",
   "metadata": {},
   "source": [
    "exercicío 6:"
   ]
  },
  {
   "cell_type": "code",
   "execution_count": 9,
   "metadata": {},
   "outputs": [
    {
     "name": "stdout",
     "output_type": "stream",
     "text": [
      "Média do aluno 3: 7.0\n",
      "Média do aluno 4: 8.0\n",
      "Média do aluno 5: 7.0\n",
      "Média do aluno 8: 7.0\n",
      "Média do aluno 9: 9.0\n"
     ]
    }
   ],
   "source": [
    "class Notas():\n",
    "    def __init__(self,notas:[]*4):\n",
    "        self.__notas = notas\n",
    "\n",
    "    def media(self):\n",
    "        m = sum(self.__notas)/len(self.__notas)\n",
    "\n",
    "        return m\n",
    "medias = []  \n",
    "c_alunos = 1    \n",
    "while c_alunos <= 10:\n",
    "    \n",
    "    entrada = input(f\"Digite as 4 notas do aluno {c_alunos}: \")\n",
    "    vet_notas = list(map(int,entrada.split()))\n",
    "    aluno = Notas(vet_notas)\n",
    "    aluno.media()\n",
    "\n",
    "    medias.append(aluno.media())\n",
    "    c_alunos+=1\n",
    "\n",
    "\n",
    "for i in range(len(medias)):\n",
    "    if medias [i] >=7:\n",
    "        print(f\"Média do aluno {i+1}: {medias[i]}\")\n",
    "\n",
    "\n"
   ]
  },
  {
   "cell_type": "markdown",
   "metadata": {},
   "source": [
    "\n",
    "exercício 7:"
   ]
  },
  {
   "cell_type": "code",
   "execution_count": null,
   "metadata": {},
   "outputs": [],
   "source": [
    "class Operacoes():\n",
    "    def __init__(self,vetor:[]*5):\n",
    "        self.vetor = vetor\n",
    "\n",
    "    def soma(self):\n",
    "        return sum(self.vetor)\n",
    "\n",
    "    def multiplicacao(self):\n",
    "        m = 1\n",
    "        for i in range(len(self.vetor)):\n",
    "            m*= self.vetor[i]\n",
    "\n",
    "        return m\n",
    "\n",
    "    def exibe(self):\n",
    "        print(f\"Os valores do vetor são: {', '.join(map(str,self.vetor))}\") \n",
    "\n",
    "\n",
    "entrada = input(\"Digite os 5 valores de entrada separados por espaço: \")\n",
    "entrada2 = list(map(int,entrada.split()))\n",
    "\n",
    "\n",
    "vetor = Operacoes(entrada2)\n",
    "soma = vetor.soma()\n",
    "multi = vetor.multiplicacao()\n",
    "vetor.exibe()\n",
    "\n",
    "print(f\"A soma dos valores do vetor é: {soma}\")\n",
    "print(f\"A multiplicação dos valores do vetor é: {multi}\")"
   ]
  },
  {
   "cell_type": "markdown",
   "metadata": {},
   "source": [
    "exercício 8"
   ]
  },
  {
   "cell_type": "code",
   "execution_count": 2,
   "metadata": {},
   "outputs": [
    {
     "name": "stdout",
     "output_type": "stream",
     "text": [
      "As idades são [30, 20, 21, 2, 18]\n",
      "As alturas são [1.95, 1.9, 1.55, 40.0, 1.8] \n"
     ]
    }
   ],
   "source": [
    "class Informacoes():\n",
    "    def __init__(self, idade: []*5,altura:[]*5):\n",
    "        self.__idade = idade\n",
    "        self.__altura = altura\n",
    "\n",
    "\n",
    "    def exibir(self):\n",
    "        print(f\"As idades são {self.__idade[::-1]}\")\n",
    "        print(f\"As alturas são {self.__altura[::-1]} \")\n",
    "        \n",
    "counter_pessoa = 1   \n",
    "idade = []\n",
    "altura = []    \n",
    "\n",
    "while counter_pessoa <=5:\n",
    "\n",
    "    entrada1 = int(input(f\"Digite a idade da pessoa {counter_pessoa}: \" ))\n",
    "    idade.append(entrada1) \n",
    "\n",
    "    entrada2 = float(input(f\"Digite a altura da pessoa {counter_pessoa}: \"))\n",
    "    altura.append(entrada2)\n",
    "    counter_pessoa +=1\n",
    "\n",
    "pessoas = Informacoes(idade, altura)\n",
    "pessoas.exibir()\n",
    "    \n"
   ]
  },
  {
   "cell_type": "markdown",
   "metadata": {},
   "source": [
    "exercício 9:"
   ]
  },
  {
   "cell_type": "code",
   "execution_count": null,
   "metadata": {},
   "outputs": [],
   "source": [
    "class Alterna():\n",
    "    def __init__(self,vet1:[]*10):\n",
    "        self.vet1 = vet1\n",
    "\n",
    "    def soma_quadrados(self):\n",
    "        resultado = 0\n",
    "        for i in range(len(self.vet1)):\n",
    "            resultado += self.vet1[i]**2\n",
    "            \n",
    "       \n",
    "        return resultado\n",
    "    \n",
    "entrada1 = input(\"Digite os valores do vetor: \")\n",
    "vet1 = list(map(int,entrada1.split()))\n",
    "\n",
    "\n",
    "objeto = Alterna(vet1)\n",
    "soma = objeto.soma_quadrados()\n",
    "\n",
    "print(f\"Os vetores intercalados são: {soma}\")"
   ]
  },
  {
   "cell_type": "markdown",
   "metadata": {},
   "source": [
    "exercício 10:"
   ]
  },
  {
   "cell_type": "code",
   "execution_count": null,
   "metadata": {},
   "outputs": [],
   "source": [
    "class Alterna():\n",
    "    def __init__(self,vet1:[]*10,vet2:[]*10):\n",
    "        self.vet1 = vet1\n",
    "        self.vet2 = vet2\n",
    "\n",
    "    def intercala(self):\n",
    "        vet3 = []\n",
    "        for i in range(len(self.vet1)):\n",
    "            vet3.append(self.vet1[i])\n",
    "            vet3.append(self.vet2[i])\n",
    "        return vet3\n",
    "    \n",
    "entrada1 = input(\"Digite os valores do vetor 1: \")\n",
    "vet1 = list(map(int,entrada1.split()))\n",
    "\n",
    "entrada2 = input(\"Digite os valores do vetor 2: \")\n",
    "vet2 = list(map(int,entrada2.split()))\n",
    "\n",
    "objeto = Alterna(vet1,vet2)\n",
    "valor_intercalado = objeto.intercala()\n",
    "\n",
    "print(f\"Os vetores intercalados são: {valor_intercalado}\")"
   ]
  }
 ],
 "metadata": {
  "kernelspec": {
   "display_name": "Python 3",
   "language": "python",
   "name": "python3"
  },
  "language_info": {
   "codemirror_mode": {
    "name": "ipython",
    "version": 3
   },
   "file_extension": ".py",
   "mimetype": "text/x-python",
   "name": "python",
   "nbconvert_exporter": "python",
   "pygments_lexer": "ipython3",
   "version": "3.10.11"
  },
  "orig_nbformat": 4
 },
 "nbformat": 4,
 "nbformat_minor": 2
}
